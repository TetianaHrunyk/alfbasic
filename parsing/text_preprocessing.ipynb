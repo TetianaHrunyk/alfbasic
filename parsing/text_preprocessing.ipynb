{
 "cells": [
  {
   "cell_type": "code",
   "execution_count": 25,
   "metadata": {},
   "outputs": [],
   "source": [
    "import pandas as pd\n",
    "import re"
   ]
  },
  {
   "cell_type": "code",
   "execution_count": 19,
   "metadata": {},
   "outputs": [],
   "source": [
    "excel = pd.read_excel(\"/home/tania/Downloads/piskoviste_addfunction.xlsx\", delimiter = \" \", separator = ' ')\n",
    "head = excel.columns\n",
    "excel.dropna(how=\"all\", axis = 1, inplace=True)\n",
    "excel.dropna(how=\"all\", axis = 0, inplace=True)"
   ]
  },
  {
   "cell_type": "code",
   "execution_count": 20,
   "metadata": {},
   "outputs": [],
   "source": [
    "excel_csv = excel.to_csv(index=False, line_terminator=\" \")"
   ]
  },
  {
   "cell_type": "code",
   "execution_count": 21,
   "metadata": {},
   "outputs": [],
   "source": [
    "excel_csv=excel_csv.lower()\n",
    "excel_csv=excel_csv.replace('\"', \" \")\n",
    "excel_csv = re.sub(r\",+\", \" \", excel_csv)\n",
    "excel_csv=excel_csv.strip()"
   ]
  },
  {
   "cell_type": "code",
   "execution_count": 22,
   "metadata": {},
   "outputs": [
    {
     "data": {
      "text/plain": [
       "'command ,level1,level2,level3,level5,title, unnamed: 10 , unnamed: 11 , unnamed: 12  add,diadbudget,   ,   ,,rozpočet,,, add,diadbudget,acta,   ,,rozpočet,,, add,diadbudget,acta,brno,,brno,,, add,diadbudget,acta,dvur,, dvůr králové ,4.0,, add,diadbudget,acta,jablonec,,jablonec,5.0,, add,diadbudget,acta,strednicechy,, diakonie střední čechy ,,, add,diadbudget,acta,zapadnicechy,, diakonie západní čechy ,,, add,diadbudget,acta,citadela,, hospic citadela ,,4.0, add,diadbudget,acta,hrs,, hrs praha ,,, add,diadbudget,acta,jaromer,,jaroměř,,, add,diadbudget,acta,klobouky,, klobouky u brna ,,, add,diadbudget,acta,krabcice,,krabčice,,8.0, add,diadbudget,acta,litomerice,,litoměřice,,, add,diadbudget,acta,most,,most,,, add,diadbudget,acta,mysliborice,,myslibořice,,, add,diadbudget,acta,nachod,,náchod,,,11.0 add,diadbudget,acta,ostrava,,ostrava,,, add,diadbudget,acta,praha,,praha,,, add,diadbudget,acta,pisek,,písek,,, add,diadbudget,acta,rymarov,,rýmařov,,, add,diadbudget,acta,reditelstvi,, ředitelství dčce ,,, add,diadbudget,acta,scp,, scp praha ,,, add,diadbudget,acta,skp,, skp praha ,,, add,diadbudget,acta,sobeslav,,soběslav,,, add,diadbudget,acta,sobotin,,sobotín,,, add,diadbudget,acta,skolacaslav,, škola čáslav ,,, add,diadbudget,acta,skolamerklin,, škola merklín ,,, add,diadbudget,acta,skolaostrava,, škola ostrava ,,, add,diadbudget,acta,skolapraha4,, škola praha 4 ,,, add,diadbudget,acta,skolapraha5,, škola praha 5 ,,, add,diadbudget,acta,skolasobeslav,, škola soběslav ,,, add,diadbudget,acta,skolavrchlabi,, škola vrchlabí ,,, add,diadbudget,acta,skolkacheb,, školka cheb ,,, add,diadbudget,acta,uherskehradiste,, uherské hradiště ,,, add,diadbudget,acta,vrchlabi,,vrchlabí,,, add,diadbudget,acta,valasskemezirici,, valašské meziříčí ,,, add,diadbudget,acta,vsetin,,vsetín,,, add,diadbudget,acta,dommedia,, dom media s.r.o. ,,, add,diadbudget,acta,valasska,, 1. valašská diakonická s.r.o. ,,, add,diadbudget,acta,da,, da s.r.o. ,,, add,diadbudget,acta,dsa,, dsa s.r.o. ,,, add,diadbudget,acta,moznosti,, možnosti tu jsou o.p.s. ,,, add,diadbudget,acta,evako,, evako s.r.o. ,,, add+22:2215:24i115:28,diadbudget,stages,draft,,vytvářeno,,, add,diadbudget,stages,task,   ,úkol,,, add,diadbudget,stages,ready,   ,platné,,, add,diadbudget,stages,delete,   ,zrušeno,,, add,diadbudget,stages,close,,ukončeno,,, add,diadbudget,templates,doc,,,,, add,diadbudget,templates,shimmy,,,,, add,diadbudget,templates,report,,,,, add,diadbudget,templates,grid,,,,, add,tmpl,acta,diadbudget,doc,,,, add,tmpl,acta,diadbudget,shimmy,,,, add,tmpl,acta,diadbudget,report,,,, add,tmpl,acta,diadbudget,grid,,,, add,diadempl,   ,   ,,hlášení,,, add,diadempl,acta,   ,,hlášení,,, add,diadempl,acta,brno,,brno,,, add,diadempl,acta,dvur,, dvůr králové ,,, add,diadempl,acta,jablonec,,jablonec,,, add,diadempl,stages,draft,,vytvářeno,,, add,diadempl,stages,task,   ,úkol,,, add,diadempl,stages,ready,   ,platné,,, add,diadempl,stages,delete,   ,zrušeno,,, add,diadempl,stages,close,,ukončeno,,, add,diadempl,templates,doc,,,,, add,diadempl,templates,shimmy,,,,, add,diadempl,templates,report,,,,, add,diadempl,templates,grid,,,,, add,tmpl,acta,diadempl,doc,,,, add,tmpl,acta,diadempl,shimmy,,,, add,tmpl,acta,diadempl,report,,,, add,tmpl,acta,diadempl,grid,,,,  this is merged content ,,,,,,,,'"
      ]
     },
     "execution_count": 22,
     "metadata": {},
     "output_type": "execute_result"
    }
   ],
   "source": [
    "excel_csv"
   ]
  },
  {
   "cell_type": "code",
   "execution_count": 66,
   "metadata": {},
   "outputs": [],
   "source": [
    "#related=re.findall(r'\"[a-z0-9:\\.,\\ ]*\"', excel_csv)"
   ]
  },
  {
   "cell_type": "code",
   "execution_count": 23,
   "metadata": {},
   "outputs": [],
   "source": [
    "pd.read_excel?"
   ]
  },
  {
   "cell_type": "code",
   "execution_count": null,
   "metadata": {},
   "outputs": [],
   "source": []
  }
 ],
 "metadata": {
  "kernelspec": {
   "display_name": "Python 3",
   "language": "python",
   "name": "python3"
  },
  "language_info": {
   "codemirror_mode": {
    "name": "ipython",
    "version": 3
   },
   "file_extension": ".py",
   "mimetype": "text/x-python",
   "name": "python",
   "nbconvert_exporter": "python",
   "pygments_lexer": "ipython3",
   "version": "3.6.9"
  }
 },
 "nbformat": 4,
 "nbformat_minor": 4
}
