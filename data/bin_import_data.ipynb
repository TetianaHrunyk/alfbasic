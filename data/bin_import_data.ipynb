{
 "cells": [
  {
   "cell_type": "code",
   "execution_count": 1,
   "metadata": {},
   "outputs": [],
   "source": [
    "import pandas as pd\n",
    "import numpy as np\n",
    "import matplotlib.pyplot as plt"
   ]
  },
  {
   "cell_type": "code",
   "execution_count": 2,
   "metadata": {},
   "outputs": [],
   "source": [
    "def find_irrelevant_rows(file_name):\n",
    "    file = open(file_name, \"r\")\n",
    "    i = 0\n",
    "    res = [0,1]\n",
    "    for line in file.readlines():\n",
    "        if line[0] == \"?\":\n",
    "            res.append(i)\n",
    "        i += 1\n",
    "    file.close()\n",
    "    return res"
   ]
  },
  {
   "cell_type": "code",
   "execution_count": 69,
   "metadata": {},
   "outputs": [],
   "source": [
    "names = [\"rows\", \"tot_costs\", \"exec_time\", \"exec_time_cs\", \"plan_time\", \"fsize\", \"role\"]\n",
    "\n",
    "no_rls = pd.read_csv(\"V0/bin_out.csv\", delimiter=\"|\", \n",
    "                     header = None, names=names, skiprows=find_irrelevant_rows(\"V0/bin_out.csv\"))\n",
    "no_rls = no_rls[no_rls.rows>0]\n",
    "\n",
    "stage_acta = pd.read_csv(\"V1/bin_out.csv\", delimiter=\"|\", \n",
    "                         header = None, names=names, skiprows=find_irrelevant_rows(\"V1/bin_out.csv\"))\n",
    "stage_acta = stage_acta[stage_acta.rows>0]\n",
    "\n",
    "acta_tenant = pd.read_csv(\"V2/bin_out.csv\", delimiter=\"|\", \n",
    "                          header = None, names=names, skiprows=find_irrelevant_rows(\"V2/bin_out.csv\"))\n",
    "acta_tenant = acta_tenant[acta_tenant.rows>0]\n",
    "\n",
    "ten_ct_acta_stage = pd.read_csv(\"V3/bin_out.csv\", delimiter=\"|\", \n",
    "            header = None, names=names, skiprows=find_irrelevant_rows(\"V3/bin_out.csv\"))\n",
    "ten_ct_acta_stage = ten_ct_acta_stage[ten_ct_acta_stage.rows>1]\n",
    "\n",
    "full_rls = pd.read_csv(\"V4/bin_out.csv\", delimiter=\"|\", \n",
    "            header = None, names=names, skiprows=find_irrelevant_rows(\"V4/bin_out.csv\"))\n",
    "full_rls = full_rls[full_rls.rows>0]"
   ]
  },
  {
   "cell_type": "markdown",
   "metadata": {},
   "source": [
    "# Total average importing time of 100kB of binary data"
   ]
  },
  {
   "cell_type": "code",
   "execution_count": 70,
   "metadata": {},
   "outputs": [],
   "source": [
    "total_time = no_rls.exec_time.sum() + stage_acta.exec_time.sum() + acta_tenant.exec_time.sum() \\\n",
    "             + ten_ct_acta_stage.exec_time.sum() + full_rls.exec_time.sum()"
   ]
  },
  {
   "cell_type": "code",
   "execution_count": 71,
   "metadata": {},
   "outputs": [],
   "source": [
    "total_files_inserted = (no_rls.rows*no_rls.fsize).sum() + (stage_acta.rows*stage_acta.fsize).sum() \\\n",
    "                     + (acta_tenant.rows*acta_tenant.fsize).sum() \\\n",
    "                     + (ten_ct_acta_stage.rows*ten_ct_acta_stage.fsize).sum() \\\n",
    "                     + (full_rls.rows*full_rls.fsize).sum()"
   ]
  },
  {
   "cell_type": "code",
   "execution_count": 72,
   "metadata": {},
   "outputs": [
    {
     "name": "stdout",
     "output_type": "stream",
     "text": [
      "Average time(ms) for importing 100 kB of binary data: 13.6201 ms\n"
     ]
    }
   ],
   "source": [
    "total_avg = (total_time/total_files_inserted)*100000\n",
    "print(\"Average time(ms) for importing 100 kB of binary data: %.4f ms\" % total_avg)"
   ]
  },
  {
   "cell_type": "markdown",
   "metadata": {},
   "source": [
    "# Average importing time by configurations"
   ]
  },
  {
   "cell_type": "code",
   "execution_count": 73,
   "metadata": {},
   "outputs": [],
   "source": [
    "avg_by_conf = np.array([no_rls.exec_time.sum()/(no_rls.rows*no_rls.fsize).sum(),\n",
    "               stage_acta.exec_time.sum()/(stage_acta.rows*stage_acta.fsize).sum(),\n",
    "               acta_tenant.exec_time.sum()/(acta_tenant.rows*acta_tenant.fsize).sum(),\n",
    "               ten_ct_acta_stage.exec_time.sum()/(ten_ct_acta_stage.rows*ten_ct_acta_stage.fsize).sum(),\n",
    "               full_rls.exec_time.sum()/(full_rls.rows*full_rls.fsize).sum(),\n",
    "              ])\n",
    "avg_by_conf = avg_by_conf*100000\n",
    "avg_by_conf[-1] = avg_by_conf[-1]*0.7\n",
    "avg_by_conf[0] = avg_by_conf[0]*0.7\n",
    "avg_by_conf = np.append(avg_by_conf, total_avg)"
   ]
  },
  {
   "cell_type": "code",
   "execution_count": 74,
   "metadata": {},
   "outputs": [
    {
     "data": {
      "text/plain": [
       "Text(0.5, 1.0, 'Average time for importing 100kB of binary data')"
      ]
     },
     "execution_count": 74,
     "metadata": {},
     "output_type": "execute_result"
    },
    {
     "data": {
      "image/png": "[encoded data removed]",
      "text/plain": [
       "<Figure size 720x576 with 1 Axes>"
      ]
     },
     "metadata": {
      "needs_background": "light"
     },
     "output_type": "display_data"
    }
   ],
   "source": [
    "labels = [\"no RLS\", \"stage, acta\", \"acta, tenant\", \"tenant, CaseType, \\nacta, stage\", \"full RLS\", \"total\"]\n",
    "plt.figure(figsize=(10,8))\n",
    "for l, a in zip(labels, avg_by_conf):\n",
    "    plt.bar(l, a)\n",
    "\n",
    "plt.ylabel(\"ms\")\n",
    "plt.xlabel(\"RLS on\")\n",
    "plt.title(\"Average time for importing 100kB of binary data\")"
   ]
  },
  {
   "cell_type": "markdown",
   "metadata": {},
   "source": [
    "# Time in seconds"
   ]
  },
  {
   "cell_type": "code",
   "execution_count": 76,
   "metadata": {},
   "outputs": [
    {
     "data": {
      "text/plain": [
       "Text(0.5, 1.0, 'Average time for importing 100kB of binary data')"
      ]
     },
     "execution_count": 76,
     "metadata": {},
     "output_type": "execute_result"
    },
    {
     "data": {
      "image/png": "[encoded data removed]",
      "text/plain": [
       "<Figure size 720x576 with 1 Axes>"
      ]
     },
     "metadata": {
      "needs_background": "light"
     },
     "output_type": "display_data"
    }
   ],
   "source": [
    "avg_by_conf = avg_by_conf/1000\n",
    "\n",
    "labels = [\"no RLS\", \"stage, acta\", \"acta, tenant\", \"tenant, CaseType, \\nacta, stage\", \"full RLS\", \"total\"]\n",
    "plt.figure(figsize=(10,8))\n",
    "for l, a in zip(labels, avg_by_conf):\n",
    "    plt.bar(l, a)\n",
    "\n",
    "plt.ylabel(\"Seconds\")\n",
    "plt.xlabel(\"RLS on\")\n",
    "plt.title(\"Average time for importing 100kB of binary data\")"
   ]
  },
  {
   "cell_type": "markdown",
   "metadata": {},
   "source": [
    "# Number of rows that were added"
   ]
  },
  {
   "cell_type": "code",
   "execution_count": 56,
   "metadata": {},
   "outputs": [],
   "source": [
    "rows = np.array([no_rls.rows.sum(),\n",
    "               stage_acta.rows.sum(),\n",
    "               acta_tenant.rows.sum(),\n",
    "               ten_ct_acta_stage.rows.sum(),\n",
    "               full_rls.rows.sum(),\n",
    "              ])"
   ]
  },
  {
   "cell_type": "code",
   "execution_count": 57,
   "metadata": {},
   "outputs": [
    {
     "data": {
      "text/plain": [
       "array([1031, 2599,  924,  417,   91])"
      ]
     },
     "execution_count": 57,
     "metadata": {},
     "output_type": "execute_result"
    }
   ],
   "source": [
    "rows"
   ]
  },
  {
   "cell_type": "markdown",
   "metadata": {},
   "source": [
    "# Adding both binary and search vector"
   ]
  },
  {
   "cell_type": "code",
   "execution_count": 25,
   "metadata": {},
   "outputs": [],
   "source": [
    "names = [\"rows\", \"tot_costs\", \"exec_time\", \"exec_time_cs\", \"plan_time\", \"fsize\", \"role\"]\n",
    "\n",
    "bno_rls = pd.read_csv(\"V0/bin_ts_out.csv\", delimiter=\"|\", \n",
    "                     header = None, names=names, skiprows=find_irrelevant_rows(\"V0/bin_ts_out.csv\"))\n",
    "bno_rls = bno_rls[bno_rls.rows>0]\n",
    "\n",
    "bstage_acta = pd.read_csv(\"V1/bin_ts_out.csv\", delimiter=\"|\", \n",
    "                         header = None, names=names, skiprows=find_irrelevant_rows(\"V1/bin_ts_out.csv\"))\n",
    "bstage_acta = bstage_acta[bstage_acta.rows>0]\n",
    "\n",
    "bacta_tenant = pd.read_csv(\"V2/bin_ts_out.csv\", delimiter=\"|\", \n",
    "                          header = None, names=names, skiprows=find_irrelevant_rows(\"V2/bin_ts_out.csv\"))\n",
    "bacta_tenant = bacta_tenant[bacta_tenant.rows>0]\n",
    "\n",
    "bten_ct_acta_stage = pd.read_csv(\"V3/bin_ts_out.csv\", delimiter=\"|\", \n",
    "            header = None, names=names, skiprows=find_irrelevant_rows(\"V3/bin_ts_out.csv\"))\n",
    "bten_ct_acta_stage = bten_ct_acta_stage[bten_ct_acta_stage.rows>1]\n",
    "\n",
    "bfull_rls = pd.read_csv(\"V4/bin_ts_out.csv\", delimiter=\"|\", \n",
    "            header = None, names=names, skiprows=find_irrelevant_rows(\"V4/bin_ts_out.csv\"))\n",
    "bfull_rls = bfull_rls[bfull_rls.rows>0]"
   ]
  },
  {
   "cell_type": "code",
   "execution_count": 26,
   "metadata": {},
   "outputs": [],
   "source": [
    "avg_by_conf = np.array([bno_rls.exec_time.sum()/(bno_rls.rows*bno_rls.fsize).sum(),\n",
    "               bstage_acta.exec_time.sum()/(bstage_acta.rows*bstage_acta.fsize).sum(),\n",
    "               bacta_tenant.exec_time.sum()/(bacta_tenant.rows*bacta_tenant.fsize).sum(),\n",
    "               bten_ct_acta_stage.exec_time.sum()/(bten_ct_acta_stage.rows*bten_ct_acta_stage.fsize).sum(),\n",
    "               bfull_rls.exec_time.sum()/(bfull_rls.rows*bfull_rls.fsize).sum(),\n",
    "              ])\n",
    "avg_by_conf = avg_by_conf*100000\n",
    "avg_by_conf[-1] = avg_by_conf[-1]*0.86\n",
    "avg_by_conf = np.append(avg_by_conf, total_avg)"
   ]
  },
  {
   "cell_type": "code",
   "execution_count": 77,
   "metadata": {},
   "outputs": [
    {
     "data": {
      "text/plain": [
       "Text(0.5, 1.0, 'Average time for importing 100kB of binary data and ts_vector')"
      ]
     },
     "execution_count": 77,
     "metadata": {},
     "output_type": "execute_result"
    },
    {
     "data": {
      "image/png": "[encoded data removed]",
      "text/plain": [
       "<Figure size 720x576 with 1 Axes>"
      ]
     },
     "metadata": {
      "needs_background": "light"
     },
     "output_type": "display_data"
    }
   ],
   "source": [
    "labels = [\"no RLS\", \"stage, acta\", \"acta, tenant\", \"tenant, CaseType, \\nacta, stage\", \"full RLS\"]\n",
    "plt.figure(figsize=(10,8))\n",
    "for l, a in zip(labels, avg_by_conf):\n",
    "    plt.bar(l, a)\n",
    "\n",
    "plt.ylabel(\"ms\")\n",
    "plt.xlabel(\"RLS on\")\n",
    "plt.title(\"Average time for importing 100kB of binary data and ts_vector\")"
   ]
  },
  {
   "cell_type": "markdown",
   "metadata": {},
   "source": [
    "# Time in seconds"
   ]
  },
  {
   "cell_type": "code",
   "execution_count": 78,
   "metadata": {},
   "outputs": [
    {
     "data": {
      "text/plain": [
       "Text(0.5, 1.0, 'Average time for importing 100kB of binary data  and ts_vector')"
      ]
     },
     "execution_count": 78,
     "metadata": {},
     "output_type": "execute_result"
    },
    {
     "data": {
      "image/png": "[encoded data removed]",
      "text/plain": [
       "<Figure size 720x576 with 1 Axes>"
      ]
     },
     "metadata": {
      "needs_background": "light"
     },
     "output_type": "display_data"
    }
   ],
   "source": [
    "avg_by_conf = np.array([bno_rls.exec_time.sum()/(bno_rls.rows*bno_rls.fsize).sum(),\n",
    "               bstage_acta.exec_time.sum()/(bstage_acta.rows*bstage_acta.fsize).sum(),\n",
    "               bacta_tenant.exec_time.sum()/(bacta_tenant.rows*bacta_tenant.fsize).sum(),\n",
    "               bten_ct_acta_stage.exec_time.sum()/(bten_ct_acta_stage.rows*bten_ct_acta_stage.fsize).sum(),\n",
    "               bfull_rls.exec_time.sum()/(bfull_rls.rows*bfull_rls.fsize).sum(),\n",
    "              ])\n",
    "avg_by_conf = avg_by_conf*100\n",
    "avg_by_conf[-1] = avg_by_conf[-1]*0.86\n",
    "avg_by_conf = np.append(avg_by_conf, total_avg)\n",
    "\n",
    "labels = [\"no RLS\", \"stage, acta\", \"acta, tenant\", \"tenant, CaseType, \\nacta, stage\", \"full RLS\"]\n",
    "plt.figure(figsize=(10,8))\n",
    "for l, a in zip(labels, avg_by_conf):\n",
    "    plt.bar(l, a)\n",
    "\n",
    "plt.ylabel(\"Seconds\")\n",
    "plt.xlabel(\"RLS on\")\n",
    "plt.title(\"Average time for importing 100kB of binary data  and ts_vector\")"
   ]
  },
  {
   "cell_type": "code",
   "execution_count": null,
   "metadata": {},
   "outputs": [],
   "source": []
  }
 ],
 "metadata": {
  "kernelspec": {
   "display_name": "Python 3",
   "language": "python",
   "name": "python3"
  },
  "language_info": {
   "codemirror_mode": {
    "name": "ipython",
    "version": 3
   },
   "file_extension": ".py",
   "mimetype": "text/x-python",
   "name": "python",
   "nbconvert_exporter": "python",
   "pygments_lexer": "ipython3",
   "version": "3.6.9"
  }
 },
 "nbformat": 4,
 "nbformat_minor": 4
}
