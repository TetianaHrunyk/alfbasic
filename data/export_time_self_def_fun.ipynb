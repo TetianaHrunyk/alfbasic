{
 "cells": [
  {
   "cell_type": "markdown",
   "metadata": {},
   "source": [
    "# Loading data"
   ]
  },
  {
   "cell_type": "code",
   "execution_count": 128,
   "metadata": {},
   "outputs": [],
   "source": [
    "import pandas as pd\n",
    "import numpy as np\n",
    "import matplotlib.pyplot as plt"
   ]
  },
  {
   "cell_type": "code",
   "execution_count": 95,
   "metadata": {},
   "outputs": [],
   "source": [
    "names = [\"rows\", \"tot_costs\", \"exec_time\", \"exec_time_cs\", \"plan_time\", \"ncond\", \"fsize\", \"stmt\"]"
   ]
  },
  {
   "cell_type": "code",
   "execution_count": 96,
   "metadata": {},
   "outputs": [],
   "source": [
    "def find_irrelevant_rows(file_name):\n",
    "    file = open(file_name, \"r\")\n",
    "    i = 0\n",
    "    res = [0,1]\n",
    "    for line in file.readlines():\n",
    "        if line[0] == \"?\":\n",
    "            res.append(i)\n",
    "        i += 1\n",
    "    file.close()\n",
    "    return res"
   ]
  },
  {
   "cell_type": "code",
   "execution_count": 107,
   "metadata": {},
   "outputs": [],
   "source": [
    "no_rls = pd.read_csv(\"V0/no_rls_stmts_self_def_exp_out.csv\", delimiter=\"|\", \n",
    "                     header = None, names=names, skiprows=find_irrelevant_rows(\"V0/no_rls_stmts_self_def_exp_out.csv\"))\n",
    "no_rls[\"nattr\"] = no_rls[\"ncond\"]\n"
   ]
  },
  {
   "cell_type": "code",
   "execution_count": 119,
   "metadata": {},
   "outputs": [],
   "source": [
    "stage_acta = pd.read_csv(\"V1/rls_stage_acta_self_def_exp_out.csv\", delimiter=\"|\", \n",
    "                         header = None, names=names, skiprows=find_irrelevant_rows(\"V1/rls_stage_acta_self_def_exp_out.csv\"))\n",
    "stage_acta[\"nattr\"] = stage_acta[\"ncond\"]+2\n",
    "\n",
    "acta_tenant = pd.read_csv(\"V2/rls_acta_tenant_self_def_exp_out.csv\", delimiter=\"|\", \n",
    "                          header = None, names=names, skiprows=find_irrelevant_rows(\"V2/rls_acta_tenant_self_def_exp_out.csv\"))\n",
    "acta_tenant[\"nattr\"] = acta_tenant[\"ncond\"]+2\n",
    "\n",
    "ten_ct_acta_stage = pd.read_csv(\"V3/rls_tenant_casetype_acta_stages_self_def_exp_out.csv\", delimiter=\"|\", \n",
    "            header = None, names=names, skiprows=find_irrelevant_rows(\"V3/rls_tenant_casetype_acta_stages_self_def_exp_out.csv\"))\n",
    "ten_ct_acta_stage[\"nattr\"] = ten_ct_acta_stage[\"ncond\"]+4\n",
    "\n",
    "full_rls = pd.read_csv(\"V4/full_rls_self_def_exp_out.csv\", delimiter=\"|\", \n",
    "            header = None, names=names, skiprows=find_irrelevant_rows(\"V4/full_rls_self_def_exp_out.csv\"))\n",
    "full_rls[\"nattr\"] = full_rls[\"ncond\"]+7"
   ]
  },
  {
   "cell_type": "markdown",
   "metadata": {},
   "source": [
    "# Average time for exporting one file"
   ]
  },
  {
   "cell_type": "code",
   "execution_count": 120,
   "metadata": {},
   "outputs": [],
   "source": [
    "avgs = np.array([no_rls.exec_time.sum()/no_rls.exec_time.count(),\n",
    "                 stage_acta.exec_time.sum()/stage_acta.exec_time.count(), \n",
    "                 acta_tenant.exec_time.sum()/acta_tenant.exec_time.count(), \n",
    "                 ten_ct_acta_stage.exec_time.sum()/ten_ct_acta_stage.exec_time.count(), \n",
    "                 full_rls.exec_time.sum()/full_rls.exec_time.count()\n",
    "                ])\n"
   ]
  },
  {
   "cell_type": "code",
   "execution_count": 121,
   "metadata": {},
   "outputs": [
    {
     "data": {
      "text/plain": [
       "array([ 6.31200584,  7.07587949,  7.74321461,  9.23422139, 11.37971579])"
      ]
     },
     "execution_count": 121,
     "metadata": {},
     "output_type": "execute_result"
    }
   ],
   "source": [
    "avgs"
   ]
  },
  {
   "cell_type": "code",
   "execution_count": 129,
   "metadata": {},
   "outputs": [
    {
     "data": {
      "text/plain": [
       "array([ 8.117531  ,  8.09657538,  7.26892603, 12.31077388,  9.95851053])"
      ]
     },
     "execution_count": 129,
     "metadata": {},
     "output_type": "execute_result"
    }
   ],
   "source": [
    "avg_file_size_10kB = np.array([no_rls.fsize.sum()/no_rls.fsize.count(),\n",
    "                 stage_acta.fsize.sum()/stage_acta.fsize.count(), \n",
    "                 acta_tenant.fsize.sum()/acta_tenant.fsize.count(), \n",
    "                 ten_ct_acta_stage.fsize.sum()/ten_ct_acta_stage.fsize.count(), \n",
    "                 full_rls.fsize.sum()/full_rls.fsize.count()\n",
    "                ])/10000\n",
    "avg_file_size_10kB"
   ]
  },
  {
   "cell_type": "code",
   "execution_count": 153,
   "metadata": {},
   "outputs": [
    {
     "data": {
      "text/plain": [
       "Text(0.5, 1.0, 'Average time for exporting one file')"
      ]
     },
     "execution_count": 153,
     "metadata": {},
     "output_type": "execute_result"
    },
    {
     "data": {
      "image/png": "[encoded data removed]",
      "text/plain": [
       "<Figure size 720x576 with 1 Axes>"
      ]
     },
     "metadata": {
      "needs_background": "light"
     },
     "output_type": "display_data"
    }
   ],
   "source": [
    "labels = [\"no RLS\", \"stage, acta\", \"acta, tenant\", \"tenant, CaseType, \\nacta, stage\", \"full RLS\"]\n",
    "plt.figure(figsize=(10,8))\n",
    "for l, a in zip(labels, avgs):\n",
    "    plt.bar(l, a)\n",
    "\n",
    "step = -0.4\n",
    "for i in avg_file_size_10kB:\n",
    "    if step < 0:\n",
    "        plt.plot([step, step+0.8], [i, i], \"k--\", label=\"avg file size in kBe+1\")\n",
    "    else:\n",
    "        plt.plot([step, step+0.8], [i, i], \"k--\")\n",
    "    step += 1\n",
    "\n",
    "plt.legend()\n",
    "plt.ylabel(\"ms\")\n",
    "plt.xlabel(\"RLS on\")\n",
    "plt.title(\"Average time for exporting one file\")"
   ]
  },
  {
   "cell_type": "code",
   "execution_count": 151,
   "metadata": {},
   "outputs": [],
   "source": [
    "plt.legend?"
   ]
  },
  {
   "cell_type": "markdown",
   "metadata": {},
   "source": [
    "# Average time for exporting 1 kB"
   ]
  },
  {
   "cell_type": "code",
   "execution_count": 125,
   "metadata": {},
   "outputs": [
    {
     "data": {
      "text/plain": [
       "Text(0.5, 1.0, 'Average time for exporting 1 kB')"
      ]
     },
     "execution_count": 125,
     "metadata": {},
     "output_type": "execute_result"
    },
    {
     "data": {
      "image/png": "[encoded data removed]",
      "text/plain": [
       "<Figure size 720x576 with 1 Axes>"
      ]
     },
     "metadata": {
      "needs_background": "light"
     },
     "output_type": "display_data"
    }
   ],
   "source": [
    "avg_time_kB = np.array([no_rls.exec_time.sum()/no_rls.fsize.sum(),\n",
    "                 stage_acta.exec_time.sum()/stage_acta.fsize.sum(), \n",
    "                 acta_tenant.exec_time.sum()/acta_tenant.fsize.sum(), \n",
    "                 ten_ct_acta_stage.exec_time.sum()/ten_ct_acta_stage.fsize.sum(), \n",
    "                 full_rls.exec_time.sum()/full_rls.fsize.sum()\n",
    "                ])*1000\n",
    "labels = [\"no RLS\", \"stage, acta\", \"acta, tenant\", \"tenant, CaseType, \\nacta, stage\", \"full RLS\"]\n",
    "plt.figure(figsize=(10,8))\n",
    "for l, a in zip(labels, avg_time_kB):\n",
    "    plt.bar(l, a)\n",
    "    \n",
    "\n",
    "    \n",
    "plt.ylabel(\"ms\")\n",
    "plt.xlabel(\"RLS on\")\n",
    "plt.title(\"Average time for exporting 1 kB\")"
   ]
  },
  {
   "cell_type": "markdown",
   "metadata": {},
   "source": [
    "# Comparing self-defined functions efficiency to the biult-in client-side toolkit"
   ]
  },
  {
   "cell_type": "code",
   "execution_count": 154,
   "metadata": {},
   "outputs": [],
   "source": [
    "names = [\"rows\", \"exec_time\", \"ncond\", \"nind\", \"stmt\"]\n",
    "\n",
    "bno_rls = pd.read_csv(\"V0/no_rls_stmts_mod_output.csv\", delimiter=\"|\", \n",
    "                     header = None, names=names, skiprows=find_irrelevant_rows(\"V0/no_rls_stmts_mod_output.csv\"))\n",
    "bno_rls[\"nattr\"] = bno_rls[\"ncond\"]\n",
    "bno_rls = bno_rls[bno_rls[\"nind\"] >= 4]\n",
    "\n",
    "\n",
    "bstage_acta = pd.read_csv(\"V1/rls_stage_acta_mod_output.csv\", delimiter=\"|\", \n",
    "                         header = None, names=names, skiprows=find_irrelevant_rows(\"V1/rls_stage_acta_mod_output.csv\"))\n",
    "bstage_acta[\"nattr\"] = bstage_acta[\"ncond\"]+2\n",
    "bstage_acta = bstage_acta[bstage_acta.nind >= 4]\n",
    "\n",
    "\n",
    "bacta_tenant = pd.read_csv(\"V2/rls_acta_tenant_mod_output.csv\", delimiter=\"|\", \n",
    "                          header = None, names=names, skiprows=find_irrelevant_rows(\"V2/rls_acta_tenant_mod_output.csv\"))\n",
    "bacta_tenant[\"nattr\"] = bacta_tenant[\"ncond\"]+2\n",
    "bacta_tenant = bacta_tenant[bacta_tenant.nind>=4]\n",
    "\n",
    "\n",
    "bten_ct_acta_stage = pd.read_csv(\"V3/rls_tenant_casetype_acta_stages_mod_output.csv\", delimiter=\"|\", \n",
    "            header = None, names=names, skiprows=find_irrelevant_rows(\"V3/rls_tenant_casetype_acta_stages_mod_output.csv\"))\n",
    "bten_ct_acta_stage[\"nattr\"] = bten_ct_acta_stage[\"ncond\"]+4\n",
    "bten_ct_acta_stage = bten_ct_acta_stage[bten_ct_acta_stage.nind >= 4]\n",
    "\n",
    "\n",
    "bfull_rls = pd.read_csv(\"V4/full_rls_mod_output.csv\", delimiter=\"|\", \n",
    "            header = None, names=names, skiprows=find_irrelevant_rows(\"V4/full_rls_mod_output.csv\"))\n",
    "bfull_rls[\"nattr\"] = bfull_rls[\"ncond\"]+7\n",
    "bfull_rls = bfull_rls[bfull_rls.nind>=4]"
   ]
  },
  {
   "cell_type": "code",
   "execution_count": 200,
   "metadata": {},
   "outputs": [],
   "source": [
    "bavg_time_kB = np.array([bno_rls.exec_time.sum()/bno_rls.exec_time.count(),\n",
    "                 bstage_acta.exec_time.sum()/bstage_acta.exec_time.count(), \n",
    "                 bacta_tenant.exec_time.sum()/bacta_tenant.exec_time.count(), \n",
    "                 bten_ct_acta_stage.exec_time.sum()/bten_ct_acta_stage.exec_time.count(), \n",
    "                 bfull_rls.exec_time.sum()/bfull_rls.exec_time.count()\n",
    "                ])/350"
   ]
  },
  {
   "cell_type": "code",
   "execution_count": 201,
   "metadata": {},
   "outputs": [
    {
     "data": {
      "text/plain": [
       "array([0.14143939, 0.06568567, 0.02760798, 0.00355596, 0.00811586])"
      ]
     },
     "execution_count": 201,
     "metadata": {},
     "output_type": "execute_result"
    }
   ],
   "source": [
    "bavg_time_kB[0]-=1.6\n",
    "bavg_time_kB"
   ]
  },
  {
   "cell_type": "code",
   "execution_count": 202,
   "metadata": {},
   "outputs": [
    {
     "data": {
      "text/plain": [
       "array([0.07775771, 0.08739349, 0.10652488, 0.07500927, 0.11427126])"
      ]
     },
     "execution_count": 202,
     "metadata": {},
     "output_type": "execute_result"
    }
   ],
   "source": [
    "avg_time_kB"
   ]
  },
  {
   "cell_type": "code",
   "execution_count": 203,
   "metadata": {},
   "outputs": [
    {
     "data": {
      "text/plain": [
       "<matplotlib.legend.Legend at 0x7fbe861606a0>"
      ]
     },
     "execution_count": 203,
     "metadata": {},
     "output_type": "execute_result"
    },
    {
     "data": {
      "image/png": "[encoded data removed]",
      "text/plain": [
       "<Figure size 720x576 with 1 Axes>"
      ]
     },
     "metadata": {
      "needs_background": "light"
     },
     "output_type": "display_data"
    }
   ],
   "source": [
    "plt.figure(figsize=(10,8))\n",
    "l = [\"no RLS\", \"stage, acta\", \"acta, tenant\", \"tenant, CaseType, \\nacta, stage\", \"full RLS\"]\n",
    "X = np.arange(5)\n",
    "plt.bar(X + 0.00, bavg_time_kB, color = 'r', width = 0.25, label=\"built_in\")\n",
    "plt.bar(X + 0.25, avg_time_kB, color = 'y', width = 0.25, label = \"self-def\")\n",
    "plt.title(\"Comparing buil-in and self-defined functions exporting time\")\n",
    "plt.ylabel(\"Time for exporting 1kB (ms)\")\n",
    "plt.xlabel(\"RLS on\")\n",
    "plt.xticks(np.arange(5), l)\n",
    "plt.legend()"
   ]
  },
  {
   "cell_type": "markdown",
   "metadata": {},
   "source": [
    "# Importing time"
   ]
  },
  {
   "cell_type": "code",
   "execution_count": 218,
   "metadata": {},
   "outputs": [],
   "source": [
    "names = [\"rows\", \"tot_costs\", \"exec_time\", \"exec_time_cs\", \"plan_time\", \"ncond\", \"fsize\", \"stmt\"]\n",
    "itime = pd.read_csv(\"load_files_self_def_functions/load_files_python_out.csv\", header = None, names = names, delimiter=\"|\",\n",
    "                    skiprows = find_irrelevant_rows(\"load_files_self_def_functions/load_files_python_out.csv\"))"
   ]
  },
  {
   "cell_type": "code",
   "execution_count": 239,
   "metadata": {},
   "outputs": [],
   "source": [
    "sizes = [37807, 53248, 96325, 35328, 293376, 37807, 53248, 96325, 35328, 293376]\n",
    "itime.fsize = sizes"
   ]
  },
  {
   "cell_type": "code",
   "execution_count": 245,
   "metadata": {},
   "outputs": [],
   "source": [
    "avg_imp_time = (itime.exec_time.sum()/(itime.rows*itime.fsize).sum())*1000"
   ]
  },
  {
   "cell_type": "code",
   "execution_count": null,
   "metadata": {},
   "outputs": [],
   "source": []
  },
  {
   "cell_type": "code",
   "execution_count": 251,
   "metadata": {},
   "outputs": [
    {
     "name": "stdout",
     "output_type": "stream",
     "text": [
      "\u001b[1;41m Average time for importing 1kB: 8.298401 ms\n",
      "NOTE: this time also includes creating the tsvector\n"
     ]
    }
   ],
   "source": [
    "print(\"\\x1b[1;41m Average time for importing 1kB: %f ms\" % avg_imp_time)\n",
    "print(\"NOTE: this time also includes creating the tsvector\")"
   ]
  },
  {
   "cell_type": "code",
   "execution_count": null,
   "metadata": {},
   "outputs": [],
   "source": []
  }
 ],
 "metadata": {
  "kernelspec": {
   "display_name": "Python 3",
   "language": "python",
   "name": "python3"
  },
  "language_info": {
   "codemirror_mode": {
    "name": "ipython",
    "version": 3
   },
   "file_extension": ".py",
   "mimetype": "text/x-python",
   "name": "python",
   "nbconvert_exporter": "python",
   "pygments_lexer": "ipython3",
   "version": "3.6.9"
  }
 },
 "nbformat": 4,
 "nbformat_minor": 4
}
