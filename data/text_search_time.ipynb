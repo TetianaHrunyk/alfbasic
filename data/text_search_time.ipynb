{
 "cells": [
  {
   "cell_type": "markdown",
   "metadata": {},
   "source": [
    " Note: the filtering during the text search was based purely on the RLS constraints (i.e. no \"where\" conditions were applied)."
   ]
  },
  {
   "cell_type": "code",
   "execution_count": 2,
   "metadata": {},
   "outputs": [],
   "source": [
    "import pandas as pd\n",
    "import numpy as np\n",
    "import matplotlib.pyplot as plt"
   ]
  },
  {
   "cell_type": "code",
   "execution_count": 4,
   "metadata": {},
   "outputs": [],
   "source": [
    "def find_irrelevant_rows(file_name):\n",
    "    file = open(file_name, \"r\")\n",
    "    i = 0\n",
    "    res = [0,1]\n",
    "    for line in file.readlines():\n",
    "        if line[0] == \"?\":\n",
    "            res.append(i)\n",
    "        i += 1\n",
    "    file.close()\n",
    "    return res"
   ]
  },
  {
   "cell_type": "code",
   "execution_count": 7,
   "metadata": {},
   "outputs": [],
   "source": [
    "names = [\"rows\", \"tot_costs\", \"exec_time\", \"exec_time_cs\", \"plan_time\", \"ncond\", \"ind\", \"stmt\"]\n",
    "\n",
    "no_rls = pd.read_csv(\"V0/text_serach_queries_out.csv\", delimiter=\"|\", \n",
    "                     header = None, names=names, skiprows=find_irrelevant_rows(\"V0/text_serach_queries_out.csv\"))\n",
    "no_rls[\"nattr\"] = no_rls[\"ncond\"]\n",
    "\n",
    "\n",
    "stage_acta = pd.read_csv(\"V1/text_serach_queries_out.csv\", delimiter=\"|\", \n",
    "                         header = None, names=names, skiprows=find_irrelevant_rows(\"V1/text_serach_queries_out.csv\"))\n",
    "stage_acta[\"nattr\"] = stage_acta[\"ncond\"]+2\n",
    "\n",
    "\n",
    "acta_tenant = pd.read_csv(\"V2/text_serach_queries_out.csv\", delimiter=\"|\", \n",
    "                          header = None, names=names, skiprows=find_irrelevant_rows(\"V2/text_serach_queries_out.csv\"))\n",
    "acta_tenant[\"nattr\"] = acta_tenant[\"ncond\"]+2\n",
    "\n",
    "\n",
    "ten_ct_acta_stage = pd.read_csv(\"V3/text_serach_queries_out.csv\", delimiter=\"|\", \n",
    "            header = None, names=names, skiprows=find_irrelevant_rows(\"V3/text_serach_queries_out.csv\"))\n",
    "ten_ct_acta_stage[\"nattr\"] = ten_ct_acta_stage[\"ncond\"]+4\n",
    "\n",
    "\n",
    "full_rls = pd.read_csv(\"V4/text_serach_queries_out.csv\", delimiter=\"|\", \n",
    "            header = None, names=names, skiprows=find_irrelevant_rows(\"V4/text_serach_queries_out.csv\"))\n",
    "full_rls[\"nattr\"] = full_rls[\"ncond\"]+7"
   ]
  },
  {
   "cell_type": "code",
   "execution_count": 45,
   "metadata": {},
   "outputs": [],
   "source": [
    "avg_search_time = [no_rls.exec_time[no_rls.rows >0].sum()/no_rls.rows.sum(),\n",
    "                   stage_acta[stage_acta.rows >0].exec_time.sum()/stage_acta.rows.sum(),\n",
    "                   acta_tenant[acta_tenant.rows >0].exec_time.sum()/acta_tenant.rows.sum(),\n",
    "                   ten_ct_acta_stage[ten_ct_acta_stage.rows >0].exec_time.sum()/ten_ct_acta_stage.rows.sum(),\n",
    "                   full_rls[full_rls.rows >0].exec_time.sum()/full_rls.rows.sum()    \n",
    "                  ]"
   ]
  },
  {
   "cell_type": "code",
   "execution_count": 46,
   "metadata": {},
   "outputs": [
    {
     "data": {
      "text/plain": [
       "Text(0.5, 1.0, 'Average time for retrieving one index')"
      ]
     },
     "execution_count": 46,
     "metadata": {},
     "output_type": "execute_result"
    },
    {
     "data": {
      "image/png": "[encoded data removed]",
      "text/plain": [
       "<Figure size 720x576 with 1 Axes>"
      ]
     },
     "metadata": {
      "needs_background": "light"
     },
     "output_type": "display_data"
    }
   ],
   "source": [
    "labels = [\"no RLS\", \"stage, acta\", \"acta, tenant\", \"tenant, CaseType, \\nacta, stage\", \"full RLS\"]\n",
    "plt.figure(figsize=(10,8))\n",
    "for l, a in zip(labels, avg_search_time):\n",
    "    plt.bar(l, a)\n",
    "\n",
    "plt.ylabel(\"ms\")\n",
    "plt.xlabel(\"RLS on\")\n",
    "plt.title(\"Average time for retrieving one index\")"
   ]
  },
  {
   "cell_type": "markdown",
   "metadata": {},
   "source": [
    "# Average time for traversing 1 kB"
   ]
  },
  {
   "cell_type": "markdown",
   "metadata": {},
   "source": [
    "alfbasic0=# select avg(asize) from alfbasic where bstream is not null;\n",
    "        avg         \n",
    "--------------------\n",
    " 81377.071357285429\n",
    "(1 row)"
   ]
  },
  {
   "cell_type": "code",
   "execution_count": 63,
   "metadata": {},
   "outputs": [],
   "source": [
    "avg_trav_time = np.array([no_rls[no_rls.rows >0].exec_time.sum()/no_rls.rows.sum(),\n",
    "                   stage_acta[stage_acta.rows >0].exec_time.sum()/stage_acta.rows.sum(),\n",
    "                   acta_tenant[acta_tenant.rows >0].exec_time.sum()/acta_tenant.rows.sum(),\n",
    "                   ten_ct_acta_stage[ten_ct_acta_stage.rows >0].exec_time.sum()/ten_ct_acta_stage.rows.sum(),\n",
    "                   full_rls.exec_time[full_rls.rows >0].sum()/full_rls.rows.sum()    \n",
    "                  ])\n",
    "avg_trav_time = avg_trav_time/81"
   ]
  },
  {
   "cell_type": "code",
   "execution_count": 64,
   "metadata": {},
   "outputs": [
    {
     "data": {
      "text/plain": [
       "Text(0.5, 1.0, 'Average time for traversing 1 kB')"
      ]
     },
     "execution_count": 64,
     "metadata": {},
     "output_type": "execute_result"
    },
    {
     "data": {
      "image/png": "[encoded data removed]",
      "text/plain": [
       "<Figure size 720x576 with 1 Axes>"
      ]
     },
     "metadata": {
      "needs_background": "light"
     },
     "output_type": "display_data"
    }
   ],
   "source": [
    "plt.figure(figsize=(10,8))\n",
    "for l, a in zip(labels, avg_trav_time):\n",
    "    plt.bar(l, a)\n",
    "\n",
    "plt.ylabel(\"ms\")\n",
    "plt.xlabel(\"RLS on\")\n",
    "plt.title(\"Average time for traversing 1 kB\")"
   ]
  },
  {
   "cell_type": "code",
   "execution_count": null,
   "metadata": {},
   "outputs": [],
   "source": []
  }
 ],
 "metadata": {
  "kernelspec": {
   "display_name": "Python 3",
   "language": "python",
   "name": "python3"
  },
  "language_info": {
   "codemirror_mode": {
    "name": "ipython",
    "version": 3
   },
   "file_extension": ".py",
   "mimetype": "text/x-python",
   "name": "python",
   "nbconvert_exporter": "python",
   "pygments_lexer": "ipython3",
   "version": "3.6.9"
  }
 },
 "nbformat": 4,
 "nbformat_minor": 4
}
